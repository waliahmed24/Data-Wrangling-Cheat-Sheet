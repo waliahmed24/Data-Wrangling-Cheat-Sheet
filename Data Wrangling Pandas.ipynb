{
 "cells": [
  {
   "cell_type": "code",
   "execution_count": null,
   "metadata": {
    "collapsed": true
   },
   "outputs": [],
   "source": [
    "#import the essential DS libraries\n",
    "import pandas as pd\n",
    "import numpy as np\n",
    "import matplotlib.pyplot as plt"
   ]
  },
  {
   "cell_type": "code",
   "execution_count": null,
   "metadata": {
    "collapsed": true
   },
   "outputs": [],
   "source": [
    "#read in the excel file via pandas read_excel function and automatically convert to a dataframe\n",
    "#mention path if file not in current working dir\n",
    "file = 'yourfile.excel' \n",
    "dataframe = pd.read_excel(file)"
   ]
  },
  {
   "cell_type": "code",
   "execution_count": null,
   "metadata": {
    "collapsed": true
   },
   "outputs": [],
   "source": [
    "#write dataframe to excel sheet\n",
    "dataframe.to_excel(\"outputfile.xlsx\", sheet_name='Sheet_name_1') "
   ]
  },
  {
   "cell_type": "code",
   "execution_count": null,
   "metadata": {
    "collapsed": true
   },
   "outputs": [],
   "source": [
    "#check the number of rows and columns of the dataframe\n",
    "dataframe.shape"
   ]
  },
  {
   "cell_type": "code",
   "execution_count": null,
   "metadata": {
    "collapsed": true
   },
   "outputs": [],
   "source": [
    "#print names of all the columns\n",
    "dataframe.columns"
   ]
  },
  {
   "cell_type": "code",
   "execution_count": null,
   "metadata": {
    "collapsed": true
   },
   "outputs": [],
   "source": [
    "#check the data type/s of all the columns\n",
    "dataframe.dtypes"
   ]
  },
  {
   "cell_type": "code",
   "execution_count": null,
   "metadata": {
    "collapsed": true
   },
   "outputs": [],
   "source": [
    "#check the first 5 observations of the dataframe\n",
    "dataframe.head()"
   ]
  },
  {
   "cell_type": "code",
   "execution_count": null,
   "metadata": {
    "collapsed": true
   },
   "outputs": [],
   "source": [
    "#checking dataframe info such as dtypes, row count, col count etc.\n",
    "dataframe.info()"
   ]
  },
  {
   "cell_type": "code",
   "execution_count": null,
   "metadata": {
    "collapsed": true
   },
   "outputs": [],
   "source": [
    "#count the total number of null values in each column\n",
    "dataframe.isna().sum()"
   ]
  },
  {
   "cell_type": "code",
   "execution_count": null,
   "metadata": {
    "collapsed": true
   },
   "outputs": [],
   "source": [
    "#dropping columns\n",
    "dataframe = dataframe.drop(['colname','colname','colname'], axis = 1)\n",
    "#or\n",
    "dataframe = dataframe.drop(dataframe.columns[<colnumber>], axis = 1)\n",
    "#or \n",
    "columns = ['colname', 'colname', 'colname']\n",
    "dataframe = dataframe.drop(columns, axis = 1)\n"
   ]
  },
  {
   "cell_type": "code",
   "execution_count": null,
   "metadata": {
    "collapsed": true
   },
   "outputs": [],
   "source": [
    "#describe the dataframe e.g. list count, unique, freq, mean, std etc. for all the columns\n",
    "dataframe.describe(include=\"all\")"
   ]
  },
  {
   "cell_type": "code",
   "execution_count": null,
   "metadata": {
    "collapsed": true
   },
   "outputs": [],
   "source": [
    "#grouping categorical values in a column together and listing corresponding #counts\n",
    "datafrmae.groupby('colname').size().nlargest()"
   ]
  },
  {
   "cell_type": "code",
   "execution_count": null,
   "metadata": {
    "collapsed": true
   },
   "outputs": [],
   "source": [
    "#grouping categorical values in a column and arranging them in ascending/descending order\n",
    "var1 = dataframe.groupby('colname')\n",
    "var1 = var1.sum()\n",
    "car1 = var1.sort_values(['newcolname'], ascending=False)\n",
    "var1.head()"
   ]
  },
  {
   "cell_type": "code",
   "execution_count": null,
   "metadata": {
    "collapsed": true
   },
   "outputs": [],
   "source": [
    "#checking the count of unique observations in a column\n",
    "dataframe.colname.unique()"
   ]
  },
  {
   "cell_type": "code",
   "execution_count": null,
   "metadata": {
    "collapsed": true
   },
   "outputs": [],
   "source": [
    "#removing all null rows of a particular column and also the entire observations adjecent to these null rows\n",
    "dataframe = dataframe[dataframe.colname.notnull()]\n",
    "#or\n",
    "dataframe.dropna(subset=['colname'], inplace= True)"
   ]
  },
  {
   "cell_type": "code",
   "execution_count": null,
   "metadata": {
    "collapsed": true
   },
   "outputs": [],
   "source": [
    "#removing a specific row from a column\n",
    "dataframe.drop(dataframe.loc[dataframe['colname']== 'rowval'].index, inplace= True)"
   ]
  },
  {
   "cell_type": "code",
   "execution_count": null,
   "metadata": {
    "collapsed": true
   },
   "outputs": [],
   "source": [
    "#splitting the dataset. Removing 70% of the observations and keeping 30%\n",
    "dataframe = dataframe.sample(frac=0.3)"
   ]
  },
  {
   "cell_type": "code",
   "execution_count": null,
   "metadata": {
    "collapsed": true
   },
   "outputs": [],
   "source": [
    "#creating train and test splits\n",
    "xtrain, xtest, ytrain, ytest  = train_test_split(featuredataframe, labelsdataframe, test_size = 0.2)"
   ]
  }
 ],
 "metadata": {
  "kernelspec": {
   "display_name": "Python 3",
   "language": "python",
   "name": "python3"
  },
  "language_info": {
   "codemirror_mode": {
    "name": "ipython",
    "version": 3
   },
   "file_extension": ".py",
   "mimetype": "text/x-python",
   "name": "python",
   "nbconvert_exporter": "python",
   "pygments_lexer": "ipython3",
   "version": "3.6.3"
  }
 },
 "nbformat": 4,
 "nbformat_minor": 2
}
